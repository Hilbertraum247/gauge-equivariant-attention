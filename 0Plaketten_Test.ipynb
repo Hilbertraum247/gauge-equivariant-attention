{
 "cells": [
  {
   "cell_type": "code",
   "execution_count": 1,
   "id": "db5e19b4-7283-4b99-a3c3-f79c7064429b",
   "metadata": {
    "tags": []
   },
   "outputs": [],
   "source": [
    "from Constants import *\n",
    "from BasicFunctions import *"
   ]
  },
  {
   "cell_type": "code",
   "execution_count": 2,
   "id": "4ec91f85-41a4-4590-a662-f54ebd0f9716",
   "metadata": {
    "tags": []
   },
   "outputs": [],
   "source": [
    "def U(mu, nu, gauge_field):\n",
    "    out = torch.matmul(dagger(torch.roll(gauge_field, shifts=-1, dims=nu)[mu-1]), dagger(gauge_field[nu-1]))\n",
    "    out = torch.matmul(torch.roll(gauge_field, shifts=-1, dims=mu)[nu-1], out)\n",
    "    out = torch.matmul(gauge_field[mu-1], out)\n",
    "    return out"
   ]
  },
  {
   "cell_type": "code",
   "execution_count": 3,
   "id": "2a726f76-3cd2-4320-a155-0d39d08007e0",
   "metadata": {
    "tags": []
   },
   "outputs": [],
   "source": [
    "def P(mu, nu, gauge_field):\n",
    "    out = (1/3) * torch.real(torch.einsum(\"xyztii->xyzt\", U(mu, nu, gauge_field)))\n",
    "    return out"
   ]
  },
  {
   "cell_type": "code",
   "execution_count": 4,
   "id": "6afa0b4a-6b67-469e-b5f3-95fe30b2bb4e",
   "metadata": {
    "tags": []
   },
   "outputs": [],
   "source": [
    "test_field = torch.rand(1, *(8,8,8,16), 3, 4, dtype=torch.complex128)"
   ]
  },
  {
   "cell_type": "code",
   "execution_count": 5,
   "id": "afb24d44-4c7f-400f-bd52-c0d11f16dbad",
   "metadata": {
    "tags": []
   },
   "outputs": [],
   "source": [
    "new_gauge = torch.rand(*(8,8,8,16), 3, 3, dtype=torch.complex128)\n",
    "\n",
    "for x in range(8):\n",
    "    for y in range(8):\n",
    "        for z in range(8):\n",
    "            for t in range(16):\n",
    "                matrix = new_gauge[x][y][z][t]\n",
    "                q_matrix, r_matrix = torch.linalg.qr(matrix)\n",
    "                new_gauge[x][y][z][t] = q_matrix"
   ]
  },
  {
   "cell_type": "code",
   "execution_count": 6,
   "id": "39b40f03-ce6c-4b0e-adbe-0b89ee5f4cc6",
   "metadata": {
    "tags": []
   },
   "outputs": [],
   "source": [
    "test_gauge_1 = gauge_tra((test_field, GAUGE_FIELD), new_gauge)[1]"
   ]
  },
  {
   "cell_type": "code",
   "execution_count": 7,
   "id": "7cd99196-7f48-4960-ba18-e3b94ebd8338",
   "metadata": {
    "tags": []
   },
   "outputs": [],
   "source": [
    "test_gauge_2 = GAUGE_FIELD.clone()"
   ]
  },
  {
   "cell_type": "code",
   "execution_count": 8,
   "id": "4742273b-8a13-4360-a3bd-02ee91d47e93",
   "metadata": {
    "tags": []
   },
   "outputs": [],
   "source": [
    "test_1 = torch.zeros(8,8,8,16)\n",
    "\n",
    "for mu in range(1,5):\n",
    "    for nu in range(1,5):\n",
    "        test_1 += P(mu, nu, test_gauge_1)\n",
    "    \n",
    "test_1 *= (1/16)"
   ]
  },
  {
   "cell_type": "code",
   "execution_count": 9,
   "id": "38a6099d-11a6-443c-9828-a26c892d480d",
   "metadata": {
    "tags": []
   },
   "outputs": [],
   "source": [
    "test_2 = torch.zeros(8,8,8,16)\n",
    "\n",
    "for mu in range(1,5):\n",
    "    for nu in range(1,5):\n",
    "        test_2 += P(mu, nu, test_gauge_2)\n",
    "    \n",
    "test_2 *= (1/16)"
   ]
  },
  {
   "cell_type": "code",
   "execution_count": 10,
   "id": "9ca940a8-56f0-4a49-bc0d-acc579710fe5",
   "metadata": {
    "tags": []
   },
   "outputs": [
    {
     "data": {
      "text/plain": [
       "tensor([[0.6665, 0.7598, 0.7849, 0.7817, 0.8074, 0.5988, 0.6783, 0.4504],\n",
       "        [0.7072, 0.6887, 0.6896, 0.7674, 0.7316, 0.6959, 0.6662, 0.6565],\n",
       "        [0.6447, 0.6756, 0.7129, 0.6617, 0.6715, 0.7307, 0.7660, 0.5991],\n",
       "        [0.7898, 0.5740, 0.6812, 0.6439, 0.5250, 0.7651, 0.8356, 0.7297],\n",
       "        [0.7695, 0.7086, 0.7857, 0.6707, 0.7189, 0.5357, 0.7078, 0.8257],\n",
       "        [0.6072, 0.6817, 0.6910, 0.7361, 0.7257, 0.6638, 0.7158, 0.6443],\n",
       "        [0.6876, 0.5634, 0.7563, 0.6399, 0.7045, 0.7395, 0.7367, 0.7763],\n",
       "        [0.7503, 0.6904, 0.6749, 0.6126, 0.6097, 0.7638, 0.7569, 0.6857]])"
      ]
     },
     "execution_count": 10,
     "metadata": {},
     "output_type": "execute_result"
    }
   ],
   "source": [
    "test_1[:,:,0,0]"
   ]
  },
  {
   "cell_type": "code",
   "execution_count": 11,
   "id": "230c265e-360e-4a84-8ec7-c03088c0db02",
   "metadata": {
    "tags": []
   },
   "outputs": [
    {
     "data": {
      "text/plain": [
       "tensor([[0.6665, 0.7598, 0.7849, 0.7817, 0.8074, 0.5988, 0.6783, 0.4504],\n",
       "        [0.7072, 0.6887, 0.6896, 0.7674, 0.7316, 0.6959, 0.6662, 0.6565],\n",
       "        [0.6447, 0.6756, 0.7129, 0.6617, 0.6715, 0.7307, 0.7660, 0.5991],\n",
       "        [0.7898, 0.5740, 0.6812, 0.6439, 0.5250, 0.7651, 0.8356, 0.7297],\n",
       "        [0.7695, 0.7086, 0.7857, 0.6707, 0.7189, 0.5357, 0.7078, 0.8257],\n",
       "        [0.6072, 0.6817, 0.6910, 0.7361, 0.7257, 0.6638, 0.7158, 0.6443],\n",
       "        [0.6876, 0.5634, 0.7563, 0.6399, 0.7045, 0.7395, 0.7367, 0.7763],\n",
       "        [0.7503, 0.6904, 0.6749, 0.6126, 0.6097, 0.7638, 0.7569, 0.6857]])"
      ]
     },
     "execution_count": 11,
     "metadata": {},
     "output_type": "execute_result"
    }
   ],
   "source": [
    "test_2[:,:,0,0]"
   ]
  }
 ],
 "metadata": {
  "kernelspec": {
   "display_name": "Python 3",
   "language": "python",
   "name": "python3"
  },
  "language_info": {
   "codemirror_mode": {
    "name": "ipython",
    "version": 3
   },
   "file_extension": ".py",
   "mimetype": "text/x-python",
   "name": "python",
   "nbconvert_exporter": "python",
   "pygments_lexer": "ipython3",
   "version": "3.9.18"
  }
 },
 "nbformat": 4,
 "nbformat_minor": 5
}
