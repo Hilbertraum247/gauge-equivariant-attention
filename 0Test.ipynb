{
 "cells": [
  {
   "cell_type": "code",
   "execution_count": 1,
   "id": "f1369fe0-fbd2-4e43-a269-217a5ea5d099",
   "metadata": {
    "tags": []
   },
   "outputs": [],
   "source": [
    "from TrainingFunctions import loss_fn\n",
    "from TransformerModules import Transformer, NonDirectionalTransformer, PTC\n",
    "from Preconditioner import transformer, non_direc_transformer, ptc\n",
    "from Operators import D_WC\n",
    "from GMRES import gmres\n",
    "import torch.nn as nn\n",
    "from BasicFunctions import *"
   ]
  },
  {
   "cell_type": "markdown",
   "id": "2cdbd30b-a60b-42d9-9a94-ee5379793219",
   "metadata": {},
   "source": [
    "> Testing with Random input"
   ]
  },
  {
   "cell_type": "code",
   "execution_count": 2,
   "id": "caa0e7c4-c227-43a1-8f8c-ab6ce404e492",
   "metadata": {},
   "outputs": [],
   "source": [
    "x_rand = torch.rand(NUM_OF_LATTICES, *LATTICE, GAUGE_DOF, NON_GAUGE_DOF, dtype=torch.complex64)"
   ]
  },
  {
   "cell_type": "code",
   "execution_count": 3,
   "id": "e77ae1ec-85fb-4409-a39c-9ebdf694cc07",
   "metadata": {},
   "outputs": [],
   "source": [
    "x_rand_small = torch.rand(NUM_OF_LATTICES, *LATTICE_SMALL, GAUGE_DOF, NON_GAUGE_DOF, dtype=torch.complex64)"
   ]
  },
  {
   "cell_type": "markdown",
   "id": "f485cb9f-b4f5-44a6-bded-8c2900643f86",
   "metadata": {},
   "source": [
    "> Transformer Calculation Times"
   ]
  },
  {
   "cell_type": "code",
   "execution_count": 5,
   "id": "a1c30362-cebf-4fe8-8b51-a7642b2984de",
   "metadata": {
    "tags": []
   },
   "outputs": [
    {
     "name": "stdout",
     "output_type": "stream",
     "text": [
      "PE in: 4.383 ms\n",
      "DirectionBasedLinear in: 20.798 ms\n",
      "SuperGaugeField in: 1524.428 ms\n",
      "Transformer in: 1556.114 ms\n"
     ]
    }
   ],
   "source": [
    "M = Transformer(GAUGE_FIELD, NON_GAUGE_DOF, 16, True, show_time=True)"
   ]
  },
  {
   "cell_type": "code",
   "execution_count": 6,
   "id": "25d396ec-6acc-45df-91f6-e5257fa70da0",
   "metadata": {
    "jupyter": {
     "source_hidden": true
    },
    "tags": []
   },
   "outputs": [
    {
     "name": "stdout",
     "output_type": "stream",
     "text": [
      "Queries Keys in: 3.567 ms\n",
      "Values in: 1821.602 ms\n",
      "MltiHeadTr(dagger(q) q dagger(k) k) in: 17.616 ms\n",
      "Scaling SGF in: 1787.338 ms\n",
      "Activation in: 1810.874 ms\n",
      "Transforming and Adding Values in: 6711.867 ms\n",
      "Everything in: 10456.587 ms\n"
     ]
    }
   ],
   "source": [
    "test = M(x_rand, show_time=True)"
   ]
  },
  {
   "cell_type": "code",
   "execution_count": 7,
   "id": "f960d5e1-9c11-46c2-a6b4-dc2f6a732989",
   "metadata": {
    "tags": []
   },
   "outputs": [
    {
     "name": "stdout",
     "output_type": "stream",
     "text": [
      "PE in: 2.936 ms\n",
      "DirectionBasedLinear in: 2.533 ms\n",
      "SuperGaugeField in: 14.263 ms\n",
      "Transformer in: 21.735 ms\n"
     ]
    }
   ],
   "source": [
    "M_small = Transformer(GAUGE_FIELD_SMALL, NON_GAUGE_DOF, 16, True, show_time=True)"
   ]
  },
  {
   "cell_type": "code",
   "execution_count": 8,
   "id": "775dd4b1-74d9-4520-b5ff-07bbc927d5e5",
   "metadata": {
    "jupyter": {
     "source_hidden": true
    },
    "tags": []
   },
   "outputs": [
    {
     "name": "stdout",
     "output_type": "stream",
     "text": [
      "Queries Keys in: 3.855 ms\n",
      "Values in: 3.457 ms\n",
      "MltiHeadTr(dagger(q) q dagger(k) k) in: 1.966 ms\n",
      "Scaling SGF in: 1.032 ms\n",
      "Activation in: 3.963 ms\n",
      "Transforming and Adding Values in: 0.824 ms\n",
      "Everything in: 14.215 ms\n"
     ]
    }
   ],
   "source": [
    "test_small = M_small(x_rand_small, show_time=True)"
   ]
  },
  {
   "cell_type": "markdown",
   "id": "c08de921-c45b-4d52-b391-41b6d4985a07",
   "metadata": {},
   "source": [
    "> PTC Calculation Times"
   ]
  },
  {
   "cell_type": "code",
   "execution_count": 11,
   "id": "61e94fd9-b037-4c9a-8353-0aca61edbbe1",
   "metadata": {
    "tags": []
   },
   "outputs": [
    {
     "name": "stdout",
     "output_type": "stream",
     "text": [
      "PTC in: 1.687 ms\n"
     ]
    }
   ],
   "source": [
    "start_time = time.time()\n",
    "ptc = PTC(NON_GAUGE_DOF, NON_GAUGE_DOF, PTC_PATHES, GAUGE_FIELD)\n",
    "end_time = time.time()\n",
    "execution_time = end_time - start_time\n",
    "print(f\"PTC in: {execution_time*1e3:.3f} ms\")"
   ]
  },
  {
   "cell_type": "code",
   "execution_count": 12,
   "id": "7662108d-1987-4876-9a10-f05d54d16add",
   "metadata": {
    "jupyter": {
     "source_hidden": true
    },
    "tags": []
   },
   "outputs": [
    {
     "name": "stdout",
     "output_type": "stream",
     "text": [
      "Calculation in: 18.407 ms\n"
     ]
    }
   ],
   "source": [
    "start_time = time.time()\n",
    "ptc(x_rand)\n",
    "end_time = time.time()\n",
    "execution_time = end_time - start_time\n",
    "print(f\"Calculation in: {execution_time*1e3:.3f} ms\")"
   ]
  },
  {
   "cell_type": "markdown",
   "id": "bb03f1ac-05d9-4a31-9a77-0df288fc5ff4",
   "metadata": {
    "tags": []
   },
   "source": [
    "> What does my Transformer with a field ???"
   ]
  },
  {
   "cell_type": "code",
   "execution_count": 2,
   "id": "14ccccd1-c62b-441a-aa41-ede9f036f63f",
   "metadata": {
    "tags": []
   },
   "outputs": [],
   "source": [
    "M = Transformer(GAUGE_FIELD_SMALL, NON_GAUGE_DOF, 16, True)"
   ]
  },
  {
   "cell_type": "code",
   "execution_count": 4,
   "id": "122fe2e5-d96c-4e44-9e3b-5c51f4111ec5",
   "metadata": {
    "tags": []
   },
   "outputs": [],
   "source": [
    "M = non_direc_transformer(\"non_direc_tr_4_16_True\")"
   ]
  },
  {
   "cell_type": "code",
   "execution_count": 2,
   "id": "7cd1493f-5d12-4673-83a2-827ca519b08b",
   "metadata": {
    "tags": []
   },
   "outputs": [],
   "source": [
    "M = transformer(\"tr_gmres_4_16_True\")"
   ]
  },
  {
   "cell_type": "code",
   "execution_count": 5,
   "id": "d6fa2c07-f771-4089-9363-c5381400ad5d",
   "metadata": {
    "tags": []
   },
   "outputs": [
    {
     "name": "stdout",
     "output_type": "stream",
     "text": [
      "Attention Matrix:\n",
      " tensor([[3.4884e-03, 1.1222e-02, 1.5841e-02, 9.1635e-03, 2.4653e-03, 5.4662e-04,\n",
      "         3.0781e-04, 6.1525e-04],\n",
      "        [1.3979e-02, 5.2179e-02, 8.0868e-02, 5.3298e-02, 1.7515e-02, 4.7805e-03,\n",
      "         2.6819e-03, 4.9177e-03],\n",
      "        [2.4180e-03, 9.6856e-03, 1.6544e-02, 1.1031e-02, 3.5146e-03, 8.9474e-04,\n",
      "         4.6455e-04, 8.0649e-04],\n",
      "        [8.0915e-04, 2.6949e-03, 4.3112e-03, 2.7461e-03, 7.7827e-04, 1.7226e-04,\n",
      "         9.1184e-05, 1.6888e-04]], grad_fn=<SelectBackward0>)\n"
     ]
    },
    {
     "data": {
      "image/png": "[encoded data removed]",
      "text/plain": [
       "<Figure size 640x480 with 1 Axes>"
      ]
     },
     "metadata": {},
     "output_type": "display_data"
    }
   ],
   "source": [
    "import matplotlib.pyplot as plt\n",
    "\n",
    "x_one = torch.zeros(1, *LATTICE_SMALL, GAUGE_DOF, NON_GAUGE_DOF, dtype=torch.complex64)\n",
    "one = torch.ones(GAUGE_DOF, NON_GAUGE_DOF)\n",
    "x_one[0, 0, 0, 1, 2] = one\n",
    "\n",
    "x_out = M(x_one)\n",
    "time_values = []\n",
    "for k in range(x_out.shape[3]):\n",
    "    time_values.append(torch.sum(torch.abs(x_out[0,0,0,k,2]), dim=(-2,-1)).item())\n",
    "time_spots = list(range(x_out.shape[3]))\n",
    "\n",
    "plt.plot(time_spots, time_values, \"o-\")\n",
    "plt.xlabel('time')\n",
    "plt.ylabel('value')\n",
    "plt.title(\"time_value - time_distance\")\n",
    "plt.grid(True)\n",
    "plt.show()"
   ]
  },
  {
   "cell_type": "code",
   "execution_count": 7,
   "id": "a36014b9-7629-4508-ada2-e0d43d990281",
   "metadata": {
    "tags": []
   },
   "outputs": [
    {
     "data": {
      "text/plain": [
       "<matplotlib.image.AxesImage at 0x7ffe5cb43940>"
      ]
     },
     "execution_count": 7,
     "metadata": {},
     "output_type": "execute_result"
    },
    {
     "data": {
      "image/png": "[encoded data removed]",
      "text/plain": [
       "<Figure size 640x480 with 1 Axes>"
      ]
     },
     "metadata": {},
     "output_type": "display_data"
    }
   ],
   "source": [
    "plt.imshow([[3.4884e-03, 1.1222e-02, 1.5841e-02, 9.1635e-03, 2.4653e-03, 5.4662e-04,\n",
    "         3.0781e-04, 6.1525e-04],\n",
    "        [1.3979e-02, 5.2179e-02, 8.0868e-02, 5.3298e-02, 1.7515e-02, 4.7805e-03,\n",
    "         2.6819e-03, 4.9177e-03],\n",
    "        [2.4180e-03, 9.6856e-03, 1.6544e-02, 1.1031e-02, 3.5146e-03, 8.9474e-04,\n",
    "         4.6455e-04, 8.0649e-04],\n",
    "        [8.0915e-04, 2.6949e-03, 4.3112e-03, 2.7461e-03, 7.7827e-04, 1.7226e-04,\n",
    "         9.1184e-05, 1.6888e-04]])"
   ]
  }
 ],
 "metadata": {
  "kernelspec": {
   "display_name": "Python 3",
   "language": "python",
   "name": "python3"
  },
  "language_info": {
   "codemirror_mode": {
    "name": "ipython",
    "version": 3
   },
   "file_extension": ".py",
   "mimetype": "text/x-python",
   "name": "python",
   "nbconvert_exporter": "python",
   "pygments_lexer": "ipython3",
   "version": "3.9.18"
  }
 },
 "nbformat": 4,
 "nbformat_minor": 5
}
