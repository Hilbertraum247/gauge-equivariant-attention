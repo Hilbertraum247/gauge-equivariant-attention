{
 "cells": [
  {
   "cell_type": "code",
   "execution_count": 1,
   "id": "f1369fe0-fbd2-4e43-a269-217a5ea5d099",
   "metadata": {
    "tags": []
   },
   "outputs": [],
   "source": [
    "from TrainingFunctions import loss_fn\n",
    "from TransformerModules import Transformer, PTC\n",
    "from TransformerModules1 import Transformer1\n",
    "from Preconditioner import transformer, ptc\n",
    "from Operators import d_wc\n",
    "from GMRES import gmres\n",
    "import torch.nn as nn\n",
    "from BasicFunctions import *"
   ]
  },
  {
   "cell_type": "code",
   "execution_count": 7,
   "id": "9f6c110b-b675-4984-abd9-3530c0578a17",
   "metadata": {
    "tags": []
   },
   "outputs": [],
   "source": [
    "import time"
   ]
  },
  {
   "cell_type": "markdown",
   "id": "2cdbd30b-a60b-42d9-9a94-ee5379793219",
   "metadata": {},
   "source": [
    "> Testing with Random input"
   ]
  },
  {
   "cell_type": "code",
   "execution_count": 3,
   "id": "6e90e1a3-50f8-4e86-be56-805e45f59895",
   "metadata": {
    "tags": []
   },
   "outputs": [],
   "source": [
    "x_rand = torch.rand(1, *LATTICE, GAUGE_DOF, 4, dtype=torch.complex128)"
   ]
  },
  {
   "cell_type": "markdown",
   "id": "f485cb9f-b4f5-44a6-bded-8c2900643f86",
   "metadata": {},
   "source": [
    "> Transformer Calculation Times"
   ]
  },
  {
   "cell_type": "code",
   "execution_count": 2,
   "id": "a1c30362-cebf-4fe8-8b51-a7642b2984de",
   "metadata": {
    "tags": []
   },
   "outputs": [
    {
     "name": "stdout",
     "output_type": "stream",
     "text": [
      "PE in: 3.889 ms\n",
      "DirectionBasedLinear in: 2057.007 ms\n",
      "SuperGaugeField in: 17175.142 ms\n",
      "Transformer in: 19400.098 ms\n"
     ]
    }
   ],
   "source": [
    "M = Transformer(GAUGE_FIELD, NON_GAUGE_DOF, 16, True, show_time=True)"
   ]
  },
  {
   "cell_type": "code",
   "execution_count": 4,
   "id": "25d396ec-6acc-45df-91f6-e5257fa70da0",
   "metadata": {
    "tags": []
   },
   "outputs": [
    {
     "name": "stdout",
     "output_type": "stream",
     "text": [
      "Q,K,V in: 35802.999 ms\n",
      "Q * dagger(K) in: 998.565 ms\n",
      "Activation in: 61516.304 ms\n",
      "Transforming and Adding Values in: 25212.555 ms\n",
      "Everything in: 123939.522 ms\n"
     ]
    }
   ],
   "source": [
    "test = M(x_rand, show_time=True)"
   ]
  },
  {
   "cell_type": "markdown",
   "id": "c08de921-c45b-4d52-b391-41b6d4985a07",
   "metadata": {},
   "source": [
    "> PTC Calculation Times"
   ]
  },
  {
   "cell_type": "code",
   "execution_count": 11,
   "id": "61e94fd9-b037-4c9a-8353-0aca61edbbe1",
   "metadata": {
    "tags": []
   },
   "outputs": [
    {
     "name": "stdout",
     "output_type": "stream",
     "text": [
      "PTC in: 1.687 ms\n"
     ]
    }
   ],
   "source": [
    "start_time = time.time()\n",
    "ptc = PTC(NON_GAUGE_DOF, NON_GAUGE_DOF, PTC_PATHES, GAUGE_FIELD)\n",
    "end_time = time.time()\n",
    "execution_time = end_time - start_time\n",
    "print(f\"PTC in: {execution_time*1e3:.3f} ms\")"
   ]
  },
  {
   "cell_type": "code",
   "execution_count": 12,
   "id": "7662108d-1987-4876-9a10-f05d54d16add",
   "metadata": {
    "tags": []
   },
   "outputs": [
    {
     "name": "stdout",
     "output_type": "stream",
     "text": [
      "Calculation in: 18.407 ms\n"
     ]
    }
   ],
   "source": [
    "start_time = time.time()\n",
    "ptc(x_rand)\n",
    "end_time = time.time()\n",
    "execution_time = end_time - start_time\n",
    "print(f\"Calculation in: {execution_time*1e3:.3f} ms\")"
   ]
  },
  {
   "cell_type": "markdown",
   "id": "bb03f1ac-05d9-4a31-9a77-0df288fc5ff4",
   "metadata": {
    "jupyter": {
     "source_hidden": true
    },
    "tags": []
   },
   "source": [
    "> What does my Transformer with a field ???"
   ]
  },
  {
   "cell_type": "code",
   "execution_count": 5,
   "id": "14ccccd1-c62b-441a-aa41-ede9f036f63f",
   "metadata": {
    "jupyter": {
     "source_hidden": true
    },
    "tags": []
   },
   "outputs": [],
   "source": [
    "M = Transformer(GAUGE_FIELD_SMALL, NON_GAUGE_DOF, 16, True)"
   ]
  },
  {
   "cell_type": "code",
   "execution_count": 6,
   "id": "d6fa2c07-f771-4089-9363-c5381400ad5d",
   "metadata": {
    "collapsed": true,
    "jupyter": {
     "outputs_hidden": true,
     "source_hidden": true
    },
    "tags": []
   },
   "outputs": [
    {
     "data": {
      "image/png": "[encoded data removed]",
      "text/plain": [
       "<Figure size 640x480 with 1 Axes>"
      ]
     },
     "metadata": {},
     "output_type": "display_data"
    }
   ],
   "source": [
    "import matplotlib.pyplot as plt\n",
    "\n",
    "x_one = torch.zeros(1, *LATTICE_SMALL, GAUGE_DOF, NON_GAUGE_DOF, dtype=torch.complex128)\n",
    "one = torch.ones(GAUGE_DOF, NON_GAUGE_DOF)\n",
    "x_one[0, 0, 0, 0, 0] = one\n",
    "\n",
    "x_out = M(x_one)\n",
    "time_values = []\n",
    "for k in range(x_out.shape[3]):\n",
    "    time_values.append(torch.sum(torch.abs(x_out[0,0,k,0,0]), dim=(-2,-1)).item())\n",
    "time_spots = list(range(x_out.shape[3]))\n",
    "\n",
    "plt.plot(time_spots, time_values, \"o-\")\n",
    "plt.xlabel('time')\n",
    "plt.ylabel('value')\n",
    "plt.title(\"time_value - time_distance\")\n",
    "plt.grid(True)\n",
    "plt.show()"
   ]
  }
 ],
 "metadata": {
  "kernelspec": {
   "display_name": "Python 3",
   "language": "python",
   "name": "python3"
  },
  "language_info": {
   "codemirror_mode": {
    "name": "ipython",
    "version": 3
   },
   "file_extension": ".py",
   "mimetype": "text/x-python",
   "name": "python",
   "nbconvert_exporter": "python",
   "pygments_lexer": "ipython3",
   "version": "3.9.18"
  }
 },
 "nbformat": 4,
 "nbformat_minor": 5
}
