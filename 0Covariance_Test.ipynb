{
 "cells": [
  {
   "cell_type": "code",
   "execution_count": 1,
   "id": "39529aff-6285-40fa-8845-a58544e6179f",
   "metadata": {
    "tags": []
   },
   "outputs": [],
   "source": [
    "from TransformerModules import Transformer, PTC\n",
    "from TransformerModules1 import Transformer1\n",
    "from Operators import D_WC\n",
    "from BasicFunctions import *"
   ]
  },
  {
   "cell_type": "markdown",
   "id": "c74c3ce8-3f76-4477-9010-4fd09c3c99c9",
   "metadata": {},
   "source": [
    ">Model testing"
   ]
  },
  {
   "cell_type": "code",
   "execution_count": 2,
   "id": "b6d84b00-f33b-4408-be59-edfe3aa7b89b",
   "metadata": {
    "tags": []
   },
   "outputs": [],
   "source": [
    "new_gauge = torch.rand(*LATTICE, GAUGE_DOF, GAUGE_DOF, dtype=torch.complex128)\n",
    "new_gauge, r_matrix = torch.linalg.qr(new_gauge)"
   ]
  },
  {
   "cell_type": "code",
   "execution_count": 3,
   "id": "555a7523-b220-4c3f-995b-cfa2c574119a",
   "metadata": {
    "tags": []
   },
   "outputs": [],
   "source": [
    "test_field = torch.rand(NUM_OF_LATTICES, *LATTICE, GAUGE_DOF, NON_GAUGE_DOF, dtype=torch.complex128)"
   ]
  },
  {
   "cell_type": "code",
   "execution_count": 4,
   "id": "cb289502-9470-476c-8705-69608e2ca8b3",
   "metadata": {
    "tags": []
   },
   "outputs": [],
   "source": [
    "M = Transformer(GAUGE_FIELD_SMALL, NON_GAUGE_DOF, 128, False)\n",
    "# M = Transformer1(GAUGE_FIELD_SMALL, NON_GAUGE_DOF, 64)\n",
    "# test_field = torch.rand(NUM_OF_LATTICES, *LATTICE, GAUGE_DOF, NON_GAUGE_DOF, dtype=torch.complex128)\n",
    "# M = SuperPtc(GAUGE_FIELD_SMALL, NON_GAUGE_DOF)"
   ]
  },
  {
   "cell_type": "code",
   "execution_count": 5,
   "id": "a6fb8d3f-f49b-4060-960f-01c0a227b2f4",
   "metadata": {
    "tags": []
   },
   "outputs": [],
   "source": [
    "y_field = gauge_tra(M(test_field), new_gauge)"
   ]
  },
  {
   "cell_type": "code",
   "execution_count": 6,
   "id": "f7695230-49dc-4dc5-95b6-bf4177088955",
   "metadata": {
    "tags": []
   },
   "outputs": [],
   "source": [
    "M.gauge_tra(new_gauge)\n",
    "x_field = M(gauge_tra(test_field, new_gauge))"
   ]
  },
  {
   "cell_type": "code",
   "execution_count": 7,
   "id": "1f3e1e6c-9ee1-4106-8d94-12a67290185f",
   "metadata": {
    "tags": []
   },
   "outputs": [
    {
     "data": {
      "text/plain": [
       "tensor([[-1.3461-1.3792j,  3.1259-0.1730j, -0.5660-1.2627j, -0.7557+1.5772j],\n",
       "        [-1.4024-2.9663j,  1.6337-0.5697j, -0.3096+0.1507j, -0.0695+0.6956j],\n",
       "        [-0.1224+0.0109j, -0.7392-1.2503j, -1.1862+0.7712j,  0.0548+1.1064j]],\n",
       "       dtype=torch.complex128, grad_fn=<SelectBackward0>)"
      ]
     },
     "execution_count": 7,
     "metadata": {},
     "output_type": "execute_result"
    }
   ],
   "source": [
    "y_field[0][0][0][0][0]"
   ]
  },
  {
   "cell_type": "code",
   "execution_count": 8,
   "id": "8515df87-9181-4f31-94e8-d881b7aabb03",
   "metadata": {
    "tags": []
   },
   "outputs": [
    {
     "data": {
      "text/plain": [
       "tensor([[-1.3461-1.3792j,  3.1259-0.1730j, -0.5660-1.2627j, -0.7557+1.5772j],\n",
       "        [-1.4024-2.9663j,  1.6337-0.5697j, -0.3096+0.1507j, -0.0695+0.6956j],\n",
       "        [-0.1224+0.0109j, -0.7392-1.2503j, -1.1862+0.7712j,  0.0548+1.1064j]],\n",
       "       dtype=torch.complex128, grad_fn=<SelectBackward0>)"
      ]
     },
     "execution_count": 8,
     "metadata": {},
     "output_type": "execute_result"
    }
   ],
   "source": [
    "x_field[0][0][0][0][0]"
   ]
  },
  {
   "cell_type": "code",
   "execution_count": 9,
   "id": "9b119095-0a01-43c6-8c58-97da96c6c3b9",
   "metadata": {
    "tags": []
   },
   "outputs": [
    {
     "data": {
      "text/plain": [
       "tensor(9.7320e-13, dtype=torch.float64, grad_fn=<MaxBackward1>)"
      ]
     },
     "execution_count": 9,
     "metadata": {},
     "output_type": "execute_result"
    }
   ],
   "source": [
    "torch.max(torch.norm((x_field - y_field).view(-1)))"
   ]
  },
  {
   "cell_type": "code",
   "execution_count": 17,
   "id": "5ff5114c-5e23-4050-a792-ae8a9f095165",
   "metadata": {
    "tags": []
   },
   "outputs": [
    {
     "data": {
      "text/plain": [
       "tensor(0.1910, dtype=torch.float64, grad_fn=<MeanBackward0>)"
      ]
     },
     "execution_count": 17,
     "metadata": {},
     "output_type": "execute_result"
    }
   ],
   "source": [
    "torch.mean(torch.abs(y_field))"
   ]
  },
  {
   "cell_type": "markdown",
   "id": "8a73a5e1-6b80-4743-9fe1-77eacc6c4b30",
   "metadata": {},
   "source": [
    ">Operators testing"
   ]
  },
  {
   "cell_type": "code",
   "execution_count": 18,
   "id": "c278f1df-6349-4e2a-aa15-86847ebdc2ea",
   "metadata": {
    "tags": []
   },
   "outputs": [],
   "source": [
    "d_wc = D_WC(M, GAUGE_FIELD_SMALL)"
   ]
  },
  {
   "cell_type": "code",
   "execution_count": 19,
   "id": "10e670d1-519b-4be6-8a12-6f62ae8bec8a",
   "metadata": {
    "tags": []
   },
   "outputs": [],
   "source": [
    "test_field = torch.rand(NUM_OF_LATTICES, *LATTICE, GAUGE_DOF, NON_GAUGE_DOF, dtype=torch.complex128)"
   ]
  },
  {
   "cell_type": "code",
   "execution_count": 20,
   "id": "19a213c8-4cd3-4157-9ebb-91a0e42dbdf5",
   "metadata": {
    "tags": []
   },
   "outputs": [],
   "source": [
    "x = gauge_tra(d_wc(test_field), new_gauge)"
   ]
  },
  {
   "cell_type": "code",
   "execution_count": 21,
   "id": "4a148a3a-b02b-4d66-b408-e291f2ce65cb",
   "metadata": {
    "tags": []
   },
   "outputs": [],
   "source": [
    "d_wc.gauge_tra(new_gauge)\n",
    "y = d_wc(gauge_tra(test_field, new_gauge))"
   ]
  },
  {
   "cell_type": "code",
   "execution_count": 22,
   "id": "002a8981-bf09-4791-a81b-58c46c831720",
   "metadata": {
    "tags": []
   },
   "outputs": [
    {
     "data": {
      "text/plain": [
       "tensor([[ 1.6288-0.6935j, -1.5211-0.1333j, -3.2507-0.7626j, -0.2517-0.7952j],\n",
       "        [-1.0042-4.4230j, -0.7003-3.8821j,  0.4384-3.3364j, -0.8399-4.5116j],\n",
       "        [ 0.6227+0.3115j, -0.2356-3.8477j, -0.4231+1.8748j, -1.8215+0.3495j]],\n",
       "       dtype=torch.complex128)"
      ]
     },
     "execution_count": 22,
     "metadata": {},
     "output_type": "execute_result"
    }
   ],
   "source": [
    "x[0,0,0,0,0]"
   ]
  },
  {
   "cell_type": "code",
   "execution_count": 23,
   "id": "23914ab1-4008-4c05-bb68-315e49570fb9",
   "metadata": {
    "tags": []
   },
   "outputs": [
    {
     "data": {
      "text/plain": [
       "tensor([[ 1.6288-0.6935j, -1.5211-0.1333j, -3.2507-0.7626j, -0.2517-0.7952j],\n",
       "        [-1.0042-4.4230j, -0.7003-3.8821j,  0.4384-3.3364j, -0.8399-4.5116j],\n",
       "        [ 0.6227+0.3115j, -0.2356-3.8477j, -0.4231+1.8748j, -1.8215+0.3495j]],\n",
       "       dtype=torch.complex128)"
      ]
     },
     "execution_count": 23,
     "metadata": {},
     "output_type": "execute_result"
    }
   ],
   "source": [
    "y[0,0,0,0,0]"
   ]
  },
  {
   "cell_type": "code",
   "execution_count": 24,
   "id": "e8546ff7-f180-48ba-81da-e2eb3afec41d",
   "metadata": {
    "tags": []
   },
   "outputs": [
    {
     "data": {
      "text/plain": [
       "tensor(1.1937e-15, dtype=torch.float64)"
      ]
     },
     "execution_count": 24,
     "metadata": {},
     "output_type": "execute_result"
    }
   ],
   "source": [
    "torch.mean(torch.abs(x - y))"
   ]
  }
 ],
 "metadata": {
  "kernelspec": {
   "display_name": "Python 3",
   "language": "python",
   "name": "python3"
  },
  "language_info": {
   "codemirror_mode": {
    "name": "ipython",
    "version": 3
   },
   "file_extension": ".py",
   "mimetype": "text/x-python",
   "name": "python",
   "nbconvert_exporter": "python",
   "pygments_lexer": "ipython3",
   "version": "3.9.18"
  }
 },
 "nbformat": 4,
 "nbformat_minor": 5
}
