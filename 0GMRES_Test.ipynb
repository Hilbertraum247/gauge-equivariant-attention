{
 "cells": [
  {
   "cell_type": "code",
   "execution_count": 1,
   "id": "866d4888-3e26-4aa2-b3d6-d190eb958f23",
   "metadata": {
    "tags": []
   },
   "outputs": [],
   "source": [
    "from GMRES import GmresTest\n",
    "from Operators import D_WC\n",
    "from Constants import *\n",
    "from Preconditioner import *"
   ]
  },
  {
   "cell_type": "code",
   "execution_count": 2,
   "id": "112583e8-11f5-4a8f-8b2f-deb6a0ccd805",
   "metadata": {
    "tags": []
   },
   "outputs": [],
   "source": [
    "d_wc = D_WC(M, GAUGE_FIELD)"
   ]
  },
  {
   "cell_type": "code",
   "execution_count": 3,
   "id": "4f4fc0e2-b78b-4cd1-bde2-45ccc738edc7",
   "metadata": {
    "tags": []
   },
   "outputs": [],
   "source": [
    "gmres_test = GmresTest(d_wc, NUM_OF_LATTICES, LATTICE, GAUGE_DOF, NON_GAUGE_DOF, max_iter=100, tol=1e-3)"
   ]
  },
  {
   "cell_type": "code",
   "execution_count": 7,
   "id": "25facffc-27ea-49ab-bf1b-e5472591a14a",
   "metadata": {
    "tags": []
   },
   "outputs": [],
   "source": [
    "d_wc_small = D_WC(M, GAUGE_FIELD_SMALL)"
   ]
  },
  {
   "cell_type": "code",
   "execution_count": 8,
   "id": "53c5f8c9-1b54-4d9b-a390-7dc9df29ee3e",
   "metadata": {
    "tags": []
   },
   "outputs": [],
   "source": [
    "gmres_test_small = GmresTest(d_wc_small, NUM_OF_LATTICES, LATTICE_SMALL, GAUGE_DOF, NON_GAUGE_DOF, max_iter=100, tol=1e-3)"
   ]
  },
  {
   "cell_type": "code",
   "execution_count": 4,
   "id": "2c0f6aed-3a0f-4c08-9e78-2ac54bad431a",
   "metadata": {
    "tags": []
   },
   "outputs": [
    {
     "name": "stdout",
     "output_type": "stream",
     "text": [
      "res: 3.554e+00\n",
      "Using GMRES: error: 3.558e+00 in time 30605.9ms and 100 iterations\n"
     ]
    }
   ],
   "source": [
    "gmres_test() # x0 = zeros"
   ]
  },
  {
   "cell_type": "code",
   "execution_count": 5,
   "id": "85db17cf-6b3b-4323-b319-5952cd59fc38",
   "metadata": {
    "tags": []
   },
   "outputs": [
    {
     "name": "stdout",
     "output_type": "stream",
     "text": [
      "res: 2.840e+00\n",
      "Using GMRES: error: 2.883e+00 in time 290935.0ms and 100 iterations\n"
     ]
    }
   ],
   "source": [
    "Ptc = ptc(\"Ptc_4_4\")\n",
    "gmres_test(Ptc)"
   ]
  },
  {
   "cell_type": "code",
   "execution_count": 9,
   "id": "e9208953-682c-4679-8847-967979512877",
   "metadata": {
    "tags": []
   },
   "outputs": [
    {
     "name": "stdout",
     "output_type": "stream",
     "text": [
      "res: 7.707e-04\n",
      "Using GMRES: error: 7.571e-04 in time 5839.7ms and 24 iterations\n"
     ]
    }
   ],
   "source": [
    "Ptc = ptc(\"ptc_4_4\")\n",
    "gmres_test_small(Ptc)"
   ]
  },
  {
   "cell_type": "code",
   "execution_count": 10,
   "id": "c0f85c0d-8d5e-457b-a162-641f2c9a5e26",
   "metadata": {
    "tags": []
   },
   "outputs": [
    {
     "name": "stdout",
     "output_type": "stream",
     "text": [
      "res: 7.411e-04\n",
      "Using GMRES: error: 7.195e-04 in time 5399.7ms and 20 iterations\n"
     ]
    }
   ],
   "source": [
    "Ptc = ptc(\"ptc_gmres_4_4\")\n",
    "gmres_test_small(Ptc)"
   ]
  },
  {
   "cell_type": "code",
   "execution_count": 11,
   "id": "4d2fb10c-5a23-4b91-b9bc-f45d91ef7a22",
   "metadata": {
    "tags": []
   },
   "outputs": [
    {
     "name": "stdout",
     "output_type": "stream",
     "text": [
      "res: 9.932e-04\n",
      "Using GMRES: error: 1.010e-03 in time 6223.1ms and 19 iterations\n"
     ]
    }
   ],
   "source": [
    "tr = transformer(\"tr_4_16_True\")\n",
    "gmres_test_small(tr)"
   ]
  },
  {
   "cell_type": "code",
   "execution_count": 12,
   "id": "6185fd3e-3a67-4d6f-80f0-8d4238984108",
   "metadata": {
    "tags": []
   },
   "outputs": [
    {
     "name": "stdout",
     "output_type": "stream",
     "text": [
      "res: 7.317e-04\n",
      "Using GMRES: error: 7.545e-04 in time 5607.8ms and 16 iterations\n"
     ]
    }
   ],
   "source": [
    "tr = transformer(\"tr_gmres_4_16_True\")\n",
    "gmres_test_small(tr)"
   ]
  }
 ],
 "metadata": {
  "kernelspec": {
   "display_name": "Python 3",
   "language": "python",
   "name": "python3"
  },
  "language_info": {
   "codemirror_mode": {
    "name": "ipython",
    "version": 3
   },
   "file_extension": ".py",
   "mimetype": "text/x-python",
   "name": "python",
   "nbconvert_exporter": "python",
   "pygments_lexer": "ipython3",
   "version": "3.9.18"
  }
 },
 "nbformat": 4,
 "nbformat_minor": 5
}
